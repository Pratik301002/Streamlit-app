{
 "cells": [
  {
   "cell_type": "code",
   "execution_count": 1,
   "id": "d347a03d",
   "metadata": {},
   "outputs": [],
   "source": [
    "import pandas as pd\n",
    "import numpy as np"
   ]
  },
  {
   "cell_type": "code",
   "execution_count": 2,
   "id": "5706aa15",
   "metadata": {},
   "outputs": [],
   "source": [
    "df = pd.read_csv('Data.csv')"
   ]
  },
  {
   "cell_type": "code",
   "execution_count": 3,
   "id": "1b97eb83",
   "metadata": {},
   "outputs": [
    {
     "data": {
      "text/html": [
       "<div>\n",
       "<style scoped>\n",
       "    .dataframe tbody tr th:only-of-type {\n",
       "        vertical-align: middle;\n",
       "    }\n",
       "\n",
       "    .dataframe tbody tr th {\n",
       "        vertical-align: top;\n",
       "    }\n",
       "\n",
       "    .dataframe thead th {\n",
       "        text-align: right;\n",
       "    }\n",
       "</style>\n",
       "<table border=\"1\" class=\"dataframe\">\n",
       "  <thead>\n",
       "    <tr style=\"text-align: right;\">\n",
       "      <th></th>\n",
       "      <th>Date</th>\n",
       "      <th>Open</th>\n",
       "      <th>High</th>\n",
       "      <th>Low</th>\n",
       "      <th>Close</th>\n",
       "      <th>Adj Close</th>\n",
       "      <th>Volume</th>\n",
       "    </tr>\n",
       "  </thead>\n",
       "  <tbody>\n",
       "    <tr>\n",
       "      <th>0</th>\n",
       "      <td>03-01-2000</td>\n",
       "      <td>33.917892</td>\n",
       "      <td>35.945827</td>\n",
       "      <td>33.917892</td>\n",
       "      <td>35.945827</td>\n",
       "      <td>26.684868</td>\n",
       "      <td>31204789.0</td>\n",
       "    </tr>\n",
       "    <tr>\n",
       "      <th>1</th>\n",
       "      <td>04-01-2000</td>\n",
       "      <td>36.902668</td>\n",
       "      <td>38.823490</td>\n",
       "      <td>35.888702</td>\n",
       "      <td>38.823490</td>\n",
       "      <td>28.821136</td>\n",
       "      <td>66436055.0</td>\n",
       "    </tr>\n",
       "    <tr>\n",
       "      <th>2</th>\n",
       "      <td>05-01-2000</td>\n",
       "      <td>36.652744</td>\n",
       "      <td>41.115627</td>\n",
       "      <td>36.652744</td>\n",
       "      <td>40.344440</td>\n",
       "      <td>29.950230</td>\n",
       "      <td>187894923.0</td>\n",
       "    </tr>\n",
       "    <tr>\n",
       "      <th>3</th>\n",
       "      <td>06-01-2000</td>\n",
       "      <td>41.272720</td>\n",
       "      <td>42.943623</td>\n",
       "      <td>41.272720</td>\n",
       "      <td>42.036766</td>\n",
       "      <td>31.206558</td>\n",
       "      <td>109810562.0</td>\n",
       "    </tr>\n",
       "    <tr>\n",
       "      <th>4</th>\n",
       "      <td>07-01-2000</td>\n",
       "      <td>42.129593</td>\n",
       "      <td>45.399994</td>\n",
       "      <td>41.843967</td>\n",
       "      <td>44.921570</td>\n",
       "      <td>33.348133</td>\n",
       "      <td>139140630.0</td>\n",
       "    </tr>\n",
       "  </tbody>\n",
       "</table>\n",
       "</div>"
      ],
      "text/plain": [
       "         Date       Open       High        Low      Close  Adj Close  \\\n",
       "0  03-01-2000  33.917892  35.945827  33.917892  35.945827  26.684868   \n",
       "1  04-01-2000  36.902668  38.823490  35.888702  38.823490  28.821136   \n",
       "2  05-01-2000  36.652744  41.115627  36.652744  40.344440  29.950230   \n",
       "3  06-01-2000  41.272720  42.943623  41.272720  42.036766  31.206558   \n",
       "4  07-01-2000  42.129593  45.399994  41.843967  44.921570  33.348133   \n",
       "\n",
       "        Volume  \n",
       "0   31204789.0  \n",
       "1   66436055.0  \n",
       "2  187894923.0  \n",
       "3  109810562.0  \n",
       "4  139140630.0  "
      ]
     },
     "execution_count": 3,
     "metadata": {},
     "output_type": "execute_result"
    }
   ],
   "source": [
    "df.head()"
   ]
  },
  {
   "cell_type": "code",
   "execution_count": 5,
   "id": "57161ee4",
   "metadata": {},
   "outputs": [
    {
     "data": {
      "text/plain": [
       "(6060, 7)"
      ]
     },
     "execution_count": 5,
     "metadata": {},
     "output_type": "execute_result"
    }
   ],
   "source": [
    "df.shape"
   ]
  },
  {
   "cell_type": "code",
   "execution_count": 7,
   "id": "dc97cdcb",
   "metadata": {},
   "outputs": [],
   "source": [
    "df.drop(columns=['Adj Close','Volume'],inplace= True)"
   ]
  },
  {
   "cell_type": "code",
   "execution_count": 8,
   "id": "75a6b1bf",
   "metadata": {},
   "outputs": [
    {
     "data": {
      "text/html": [
       "<div>\n",
       "<style scoped>\n",
       "    .dataframe tbody tr th:only-of-type {\n",
       "        vertical-align: middle;\n",
       "    }\n",
       "\n",
       "    .dataframe tbody tr th {\n",
       "        vertical-align: top;\n",
       "    }\n",
       "\n",
       "    .dataframe thead th {\n",
       "        text-align: right;\n",
       "    }\n",
       "</style>\n",
       "<table border=\"1\" class=\"dataframe\">\n",
       "  <thead>\n",
       "    <tr style=\"text-align: right;\">\n",
       "      <th></th>\n",
       "      <th>Date</th>\n",
       "      <th>Open</th>\n",
       "      <th>High</th>\n",
       "      <th>Low</th>\n",
       "      <th>Close</th>\n",
       "    </tr>\n",
       "  </thead>\n",
       "  <tbody>\n",
       "    <tr>\n",
       "      <th>0</th>\n",
       "      <td>03-01-2000</td>\n",
       "      <td>33.917892</td>\n",
       "      <td>35.945827</td>\n",
       "      <td>33.917892</td>\n",
       "      <td>35.945827</td>\n",
       "    </tr>\n",
       "    <tr>\n",
       "      <th>1</th>\n",
       "      <td>04-01-2000</td>\n",
       "      <td>36.902668</td>\n",
       "      <td>38.823490</td>\n",
       "      <td>35.888702</td>\n",
       "      <td>38.823490</td>\n",
       "    </tr>\n",
       "    <tr>\n",
       "      <th>2</th>\n",
       "      <td>05-01-2000</td>\n",
       "      <td>36.652744</td>\n",
       "      <td>41.115627</td>\n",
       "      <td>36.652744</td>\n",
       "      <td>40.344440</td>\n",
       "    </tr>\n",
       "    <tr>\n",
       "      <th>3</th>\n",
       "      <td>06-01-2000</td>\n",
       "      <td>41.272720</td>\n",
       "      <td>42.943623</td>\n",
       "      <td>41.272720</td>\n",
       "      <td>42.036766</td>\n",
       "    </tr>\n",
       "    <tr>\n",
       "      <th>4</th>\n",
       "      <td>07-01-2000</td>\n",
       "      <td>42.129593</td>\n",
       "      <td>45.399994</td>\n",
       "      <td>41.843967</td>\n",
       "      <td>44.921570</td>\n",
       "    </tr>\n",
       "  </tbody>\n",
       "</table>\n",
       "</div>"
      ],
      "text/plain": [
       "         Date       Open       High        Low      Close\n",
       "0  03-01-2000  33.917892  35.945827  33.917892  35.945827\n",
       "1  04-01-2000  36.902668  38.823490  35.888702  38.823490\n",
       "2  05-01-2000  36.652744  41.115627  36.652744  40.344440\n",
       "3  06-01-2000  41.272720  42.943623  41.272720  42.036766\n",
       "4  07-01-2000  42.129593  45.399994  41.843967  44.921570"
      ]
     },
     "execution_count": 8,
     "metadata": {},
     "output_type": "execute_result"
    }
   ],
   "source": [
    "df.head()"
   ]
  },
  {
   "cell_type": "code",
   "execution_count": 24,
   "id": "27a50a41",
   "metadata": {},
   "outputs": [
    {
     "name": "stdout",
     "output_type": "stream",
     "text": [
      "Best Parameters: {'C': 100, 'epsilon': 0.001, 'gamma': 'scale', 'kernel': 'linear'}\n",
      "Mean Squared Error: 71.05966529020134\n"
     ]
    }
   ],
   "source": [
    "import numpy as np\n",
    "import pandas as pd\n",
    "from sklearn.svm import SVR\n",
    "from sklearn.preprocessing import MinMaxScaler\n",
    "from sklearn.model_selection import GridSearchCV, train_test_split\n",
    "from sklearn.metrics import mean_squared_error\n",
    "\n",
    "# Assuming you have a CSV file containing historical stock data\n",
    "data = pd.read_csv('Data.csv')\n",
    "data.dropna(inplace=True)\n",
    "# Extracting features: High, Low, Close\n",
    "X = data[['High', 'Low', 'Close','Adj Close']].values\n",
    "\n",
    "# Extracting labels: Open prices (shifted by one day to predict next day's opening price)\n",
    "y = data['Open'].shift(-1).fillna(method='ffill').values\n",
    "\n",
    "# Normalizing the features and labels\n",
    "scaler_X = MinMaxScaler(feature_range=(0, 1))\n",
    "scaler_y = MinMaxScaler(feature_range=(0, 1))\n",
    "X_scaled = scaler_X.fit_transform(X)\n",
    "y_scaled = scaler_y.fit_transform(y.reshape(-1, 1)).ravel()\n",
    "\n",
    "# Splitting the dataset into training and testing sets\n",
    "X_train, X_test, y_train, y_test = train_test_split(X_scaled, y_scaled, test_size=0.2, random_state=42)\n",
    "\n",
    "# Define the SVR model\n",
    "svr = SVR()\n",
    "\n",
    "# Define the grid of parameters to search\n",
    "param_grid = {\n",
    "    'kernel': ['linear', 'poly', 'rbf', 'sigmoid'],\n",
    "    'C': [0.1, 1, 10, 100],\n",
    "    'gamma': ['scale', 'auto'],\n",
    "    'epsilon': [0.1, 0.01, 0.001]\n",
    "}\n",
    "\n",
    "# Define GridSearchCV\n",
    "grid_search = GridSearchCV(estimator=svr, param_grid=param_grid, cv=5, scoring='neg_mean_squared_error', n_jobs=-1)\n",
    "\n",
    "# Perform GridSearchCV\n",
    "grid_search.fit(X_train, y_train)\n",
    "\n",
    "# Get the best parameters\n",
    "best_params = grid_search.best_params_\n",
    "print(\"Best Parameters:\", best_params)\n",
    "\n",
    "# Make predictions on the test set using the best model\n",
    "best_model = grid_search.best_estimator_\n",
    "y_pred = best_model.predict(X_test)\n",
    "\n",
    "# Inverse transform the predictions and actual values to get the real stock prices\n",
    "y_pred_inv = scaler_y.inverse_transform(y_pred.reshape(-1, 1)).ravel()\n",
    "y_test_inv = scaler_y.inverse_transform(y_test.reshape(-1, 1)).ravel()\n",
    "\n",
    "# Calculate Mean Squared Error\n",
    "mse = mean_squared_error(y_test_inv, y_pred_inv)\n",
    "print(\"Mean Squared Error:\", mse)\n"
   ]
  },
  {
   "cell_type": "code",
   "execution_count": 22,
   "id": "683ffda4",
   "metadata": {},
   "outputs": [
    {
     "name": "stdout",
     "output_type": "stream",
     "text": [
      "\u001b[1m38/38\u001b[0m \u001b[32m━━━━━━━━━━━━━━━━━━━━\u001b[0m\u001b[37m\u001b[0m \u001b[1m0s\u001b[0m 1ms/step \n"
     ]
    },
    {
     "data": {
      "text/plain": [
       "-1.2583920171893581e-05"
      ]
     },
     "execution_count": 22,
     "metadata": {},
     "output_type": "execute_result"
    }
   ],
   "source": [
    "from sklearn.metrics import r2_score\n",
    "y_pred = model.predict(X_test)\n",
    "r2_score(y_test,y_pred)"
   ]
  },
  {
   "cell_type": "code",
   "execution_count": 23,
   "id": "c5bdd98f",
   "metadata": {},
   "outputs": [],
   "source": [
    "import pickle\n",
    "with open('model.pkl', 'wb') as f:\n",
    "    pickle.dump(best_model, f)"
   ]
  },
  {
   "cell_type": "code",
   "execution_count": 34,
   "id": "34165d4a",
   "metadata": {},
   "outputs": [],
   "source": [
    "value = np.array([[2972,2918.7,2923.15,2931.5],\n",
    "[2948,2886.05,2937.45,2928.65],\n",
    "[2964,2935.6,2962.85,2940.25],\n",
    "[2987,2913.05,2915.5,2959.7],\n",
    "[2937.1,2899,2901.95,2918.65],\n",
    "[2935.95,2883,2913.2,2900.35],\n",
    "[2930,2900,2907.8,2919.95]])\n",
    "\n"
   ]
  },
  {
   "cell_type": "code",
   "execution_count": 26,
   "id": "12b7add0",
   "metadata": {},
   "outputs": [],
   "source": [
    "df2 = pd.read_csv('PREDICTION - Sheet1.csv')"
   ]
  },
  {
   "cell_type": "code",
   "execution_count": 27,
   "id": "a4853426",
   "metadata": {},
   "outputs": [
    {
     "data": {
      "text/html": [
       "<div>\n",
       "<style scoped>\n",
       "    .dataframe tbody tr th:only-of-type {\n",
       "        vertical-align: middle;\n",
       "    }\n",
       "\n",
       "    .dataframe tbody tr th {\n",
       "        vertical-align: top;\n",
       "    }\n",
       "\n",
       "    .dataframe thead th {\n",
       "        text-align: right;\n",
       "    }\n",
       "</style>\n",
       "<table border=\"1\" class=\"dataframe\">\n",
       "  <thead>\n",
       "    <tr style=\"text-align: right;\">\n",
       "      <th></th>\n",
       "      <th>DATE</th>\n",
       "      <th>OPEN</th>\n",
       "      <th>HIGH</th>\n",
       "      <th>LOW</th>\n",
       "      <th>CLOSE ( 3.20 )</th>\n",
       "      <th>PREV CLOSE</th>\n",
       "      <th>PREDICTION ( OPEN )</th>\n",
       "      <th>ACTUAL OPEN</th>\n",
       "      <th>DIFFRENCE BETWEEN ACTUAL &amp; PREDICTION</th>\n",
       "    </tr>\n",
       "  </thead>\n",
       "  <tbody>\n",
       "    <tr>\n",
       "      <th>0</th>\n",
       "      <td>01-04-2024</td>\n",
       "      <td>2984.95</td>\n",
       "      <td>2987.95</td>\n",
       "      <td>2965.0</td>\n",
       "      <td>2969.60</td>\n",
       "      <td>2971.70</td>\n",
       "      <td>2990.243702</td>\n",
       "      <td>2968.00</td>\n",
       "      <td>22.243702</td>\n",
       "    </tr>\n",
       "    <tr>\n",
       "      <th>1</th>\n",
       "      <td>02-04-2024</td>\n",
       "      <td>2968.00</td>\n",
       "      <td>2988.00</td>\n",
       "      <td>2950.0</td>\n",
       "      <td>2975.85</td>\n",
       "      <td>2969.55</td>\n",
       "      <td>2992.292147</td>\n",
       "      <td>2964.15</td>\n",
       "      <td>28.142147</td>\n",
       "    </tr>\n",
       "    <tr>\n",
       "      <th>2</th>\n",
       "      <td>03-04-2024</td>\n",
       "      <td>2964.15</td>\n",
       "      <td>2968.90</td>\n",
       "      <td>2937.8</td>\n",
       "      <td>2939.90</td>\n",
       "      <td>2973.90</td>\n",
       "      <td>2979.622980</td>\n",
       "      <td>2959.90</td>\n",
       "      <td>19.722980</td>\n",
       "    </tr>\n",
       "    <tr>\n",
       "      <th>3</th>\n",
       "      <td>04-04-2024</td>\n",
       "      <td>2959.90</td>\n",
       "      <td>2959.90</td>\n",
       "      <td>2900.0</td>\n",
       "      <td>2926.75</td>\n",
       "      <td>2943.20</td>\n",
       "      <td>2959.242521</td>\n",
       "      <td>2921.75</td>\n",
       "      <td>37.492521</td>\n",
       "    </tr>\n",
       "    <tr>\n",
       "      <th>4</th>\n",
       "      <td>05-04-2024</td>\n",
       "      <td>2921.75</td>\n",
       "      <td>2941.60</td>\n",
       "      <td>2912.0</td>\n",
       "      <td>2919.10</td>\n",
       "      <td>2925.85</td>\n",
       "      <td>2958.059032</td>\n",
       "      <td>2925.95</td>\n",
       "      <td>32.109032</td>\n",
       "    </tr>\n",
       "  </tbody>\n",
       "</table>\n",
       "</div>"
      ],
      "text/plain": [
       "         DATE     OPEN     HIGH     LOW  CLOSE ( 3.20 )  PREV CLOSE   \\\n",
       "0  01-04-2024  2984.95  2987.95  2965.0         2969.60      2971.70   \n",
       "1  02-04-2024  2968.00  2988.00  2950.0         2975.85      2969.55   \n",
       "2  03-04-2024  2964.15  2968.90  2937.8         2939.90      2973.90   \n",
       "3  04-04-2024  2959.90  2959.90  2900.0         2926.75      2943.20   \n",
       "4  05-04-2024  2921.75  2941.60  2912.0         2919.10      2925.85   \n",
       "\n",
       "   PREDICTION ( OPEN )  ACTUAL OPEN   DIFFRENCE BETWEEN ACTUAL & PREDICTION  \n",
       "0          2990.243702       2968.00                              22.243702  \n",
       "1          2992.292147       2964.15                              28.142147  \n",
       "2          2979.622980       2959.90                              19.722980  \n",
       "3          2959.242521       2921.75                              37.492521  \n",
       "4          2958.059032       2925.95                              32.109032  "
      ]
     },
     "execution_count": 27,
     "metadata": {},
     "output_type": "execute_result"
    }
   ],
   "source": [
    "df2.head()"
   ]
  },
  {
   "cell_type": "code",
   "execution_count": null,
   "id": "b14bc03d",
   "metadata": {},
   "outputs": [],
   "source": []
  },
  {
   "cell_type": "code",
   "execution_count": null,
   "id": "b0dbcc21",
   "metadata": {},
   "outputs": [],
   "source": []
  }
 ],
 "metadata": {
  "kernelspec": {
   "display_name": "Python 3 (ipykernel)",
   "language": "python",
   "name": "python3"
  },
  "language_info": {
   "codemirror_mode": {
    "name": "ipython",
    "version": 3
   },
   "file_extension": ".py",
   "mimetype": "text/x-python",
   "name": "python",
   "nbconvert_exporter": "python",
   "pygments_lexer": "ipython3",
   "version": "3.11.5"
  }
 },
 "nbformat": 4,
 "nbformat_minor": 5
}
